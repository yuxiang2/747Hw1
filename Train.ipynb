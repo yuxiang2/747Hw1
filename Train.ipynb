{
 "cells": [
  {
   "cell_type": "code",
   "execution_count": 1,
   "metadata": {
    "collapsed": true
   },
   "outputs": [],
   "source": [
    "import codecs\n",
    "import numpy as np\n",
    "import torch\n",
    "from torch.utils.data import Dataset, DataLoader\n",
    "from torch import nn"
   ]
  },
  {
   "cell_type": "code",
   "execution_count": 2,
   "metadata": {
    "collapsed": true
   },
   "outputs": [],
   "source": [
    "train_file_name = 'train.txt'\n",
    "valid_file_name = 'valid.txt'\n",
    "test_file_name = 'test.txt'"
   ]
  },
  {
   "cell_type": "code",
   "execution_count": 3,
   "metadata": {
    "collapsed": true
   },
   "outputs": [],
   "source": [
    "train_label_name = 'train_label.txt'\n",
    "valid_label_name = 'valid_label.txt'"
   ]
  },
  {
   "cell_type": "code",
   "execution_count": 4,
   "metadata": {
    "collapsed": true
   },
   "outputs": [],
   "source": [
    "classes = 16"
   ]
  },
  {
   "cell_type": "markdown",
   "metadata": {},
   "source": [
    "### Get All Vocabularies and Dictionaries"
   ]
  },
  {
   "cell_type": "code",
   "execution_count": 5,
   "metadata": {
    "collapsed": true
   },
   "outputs": [],
   "source": [
    "from collections import Counter"
   ]
  },
  {
   "cell_type": "code",
   "execution_count": 6,
   "metadata": {
    "collapsed": true
   },
   "outputs": [],
   "source": [
    "vocab = Counter()\n",
    "\n",
    "with codecs.open(train_file_name, 'r', encoding='utf8') as f:\n",
    "    for line in f:\n",
    "        words = str.split(line, ' ')\n",
    "        words[-1] = words[-1].strip()\n",
    "        for word in words:\n",
    "            vocab[word] += 1"
   ]
  },
  {
   "cell_type": "code",
   "execution_count": 7,
   "metadata": {
    "collapsed": true
   },
   "outputs": [],
   "source": [
    "vocab = [word for word,_ in vocab.most_common()]"
   ]
  },
  {
   "cell_type": "code",
   "execution_count": 8,
   "metadata": {
    "collapsed": true
   },
   "outputs": [],
   "source": [
    "vocab2num = {}\n",
    "count = 0\n",
    "for word in vocab:\n",
    "    vocab2num[word] = count\n",
    "    count += 1\n",
    "vocab2num['<None>'] = count\n",
    "vocab2num['<Pad>'] = len(vocab2num)"
   ]
  },
  {
   "cell_type": "markdown",
   "metadata": {},
   "source": [
    "### Load Data"
   ]
  },
  {
   "cell_type": "code",
   "execution_count": 9,
   "metadata": {
    "collapsed": true
   },
   "outputs": [],
   "source": [
    "train_sentences = []\n",
    "\n",
    "with codecs.open(train_file_name, 'r', encoding='utf8') as f:\n",
    "    for line in f:\n",
    "        words = str.split(line, ' ')\n",
    "        words[-1] = words[-1].strip()\n",
    "        nums = np.array([vocab2num[word] for word in words])\n",
    "        train_sentences.append(nums)"
   ]
  },
  {
   "cell_type": "code",
   "execution_count": 10,
   "metadata": {
    "collapsed": true
   },
   "outputs": [],
   "source": [
    "train_labels = []\n",
    "\n",
    "with codecs.open(train_label_name, 'r', encoding='utf8') as f:\n",
    "    for line in f:\n",
    "        label = int(line)\n",
    "        train_labels.append(label)"
   ]
  },
  {
   "cell_type": "code",
   "execution_count": 11,
   "metadata": {
    "collapsed": true
   },
   "outputs": [],
   "source": [
    "valid_sentences = []\n",
    "\n",
    "with codecs.open(valid_file_name, 'r', encoding='utf8') as f:\n",
    "    for line in f:\n",
    "        words = str.split(line, ' ')\n",
    "        words[-1] = words[-1].strip()\n",
    "        \n",
    "        nums = []\n",
    "        for word in words:\n",
    "            try:\n",
    "                word,tag = str.split(word, '_')\n",
    "            except:\n",
    "                continue\n",
    "                \n",
    "            if word in vocab2num:\n",
    "                nums.append(vocab2num[word])\n",
    "            else:\n",
    "                nums.append(vocab2num[tag])\n",
    "                \n",
    "        if len(nums) == 0:\n",
    "            nums = [vocab2num['<None>']]\n",
    "            \n",
    "        nums = np.array(nums)\n",
    "        valid_sentences.append(nums)"
   ]
  },
  {
   "cell_type": "code",
   "execution_count": 12,
   "metadata": {
    "collapsed": true
   },
   "outputs": [],
   "source": [
    "valid_labels = []\n",
    "\n",
    "with codecs.open(valid_label_name, 'r', encoding='utf8') as f:\n",
    "    for line in f:\n",
    "        label = int(line)\n",
    "        valid_labels.append(label)"
   ]
  },
  {
   "cell_type": "markdown",
   "metadata": {
    "collapsed": true
   },
   "source": [
    "### Prepare Pytorch Data"
   ]
  },
  {
   "cell_type": "code",
   "execution_count": 13,
   "metadata": {
    "collapsed": true
   },
   "outputs": [],
   "source": [
    "lens = [len(seq) for seq in train_sentences]\n",
    "seq_order = sorted(range(len(lens)), key=lens.__getitem__)"
   ]
  },
  {
   "cell_type": "code",
   "execution_count": 14,
   "metadata": {
    "collapsed": true
   },
   "outputs": [],
   "source": [
    "train_sentences = [train_sentences[i] for i in seq_order]\n",
    "train_labels = [train_labels[i] for i in seq_order]"
   ]
  },
  {
   "cell_type": "code",
   "execution_count": 21,
   "metadata": {
    "collapsed": true
   },
   "outputs": [],
   "source": [
    "import random\n",
    "\n",
    "class Sentences(Dataset):\n",
    "    def __init__(self, sentences, labels, offset, batch_size, drop_words=0.0):\n",
    "        self.sentences = sentences\n",
    "        self.labels = labels\n",
    "        self.random_range = offset * 2 + 1\n",
    "        self.offset = offset\n",
    "        self.batch_size = batch_size\n",
    "        self.drop_words = drop_words\n",
    "        \n",
    "    def __len__(self):\n",
    "        return len(self.labels)\n",
    "    \n",
    "    def __getitem__(self, idx):\n",
    "        random_choice = np.array([0] + random.sample(range(self.random_range), self.batch_size-1)) + idx\n",
    "        \n",
    "        if idx < self.offset:\n",
    "            random_choice = random_choice - idx\n",
    "        elif idx + self.offset >= len(self.labels):\n",
    "            random_choice = random_choice - 2*self.offset + (len(self.labels)-idx-1)\n",
    "        else:\n",
    "            random_choice = random_choice - self.offset\n",
    "        random_choice[0] = idx\n",
    "        \n",
    "        grouped_sentences = [self.sentences[i] for i in random_choice]\n",
    "        grouped_labels = np.array([self.labels[i] for i in random_choice])\n",
    "        \n",
    "        # randomly drop words\n",
    "        if self.drop_words > 0.0:\n",
    "            for i in range(len(grouped_sentences)):\n",
    "                sent = grouped_sentences[i]\n",
    "                modified_sent = np.copy(sent)\n",
    "                for j in range(len(sent)):\n",
    "                    if np.random.uniform() < self.drop_words:\n",
    "                        modified_sent[j] = vocab2num['<Pad>']\n",
    "                grouped_sentences[i] = modified_sent\n",
    "            \n",
    "        # pad to same length\n",
    "        max_len = 0\n",
    "        for i in range(len(grouped_sentences)):\n",
    "            sent = grouped_sentences[i]\n",
    "            max_len = max(max_len, len(sent))\n",
    "        \n",
    "        for i in range(len(grouped_sentences)):\n",
    "            sent = grouped_sentences[i]\n",
    "            pad_len = max_len-len(sent)\n",
    "            none_value = vocab2num['<None>']\n",
    "            grouped_sentences[i] = np.pad(sent, (1,pad_len+1), 'constant', constant_values=(none_value,none_value))\n",
    "            \n",
    "        grouped_sentences = torch.tensor(np.array(grouped_sentences).astype(int))\n",
    "        return grouped_sentences, torch.tensor(grouped_labels)\n",
    "        "
   ]
  },
  {
   "cell_type": "code",
   "execution_count": 22,
   "metadata": {
    "collapsed": true
   },
   "outputs": [],
   "source": [
    "train_dataset = Sentences(train_sentences, train_labels, 1000, 32, 0.15)\n",
    "valid_dataset = Sentences(valid_sentences, valid_labels, 0, 1)"
   ]
  },
  {
   "cell_type": "markdown",
   "metadata": {},
   "source": [
    "### Define the Model"
   ]
  },
  {
   "cell_type": "code",
   "execution_count": 13,
   "metadata": {
    "collapsed": true
   },
   "outputs": [],
   "source": [
    "class Transpose(nn.Module):\n",
    "    def __init__(self):\n",
    "        super(Transpose, self).__init__()\n",
    "\n",
    "    def forward(self, x):\n",
    "        return x.transpose(1, 2)"
   ]
  },
  {
   "cell_type": "code",
   "execution_count": 14,
   "metadata": {
    "collapsed": true
   },
   "outputs": [],
   "source": [
    "class My_max(nn.Module):\n",
    "    def __init__(self):\n",
    "        super(My_max, self).__init__()\n",
    "\n",
    "    def forward(self, x):\n",
    "        topk,_ = torch.max(x, 2)\n",
    "#         print(topk.size())\n",
    "#         print(topk.view(topk.size(1), -1).size())\n",
    "        return topk"
   ]
  },
  {
   "cell_type": "code",
   "execution_count": 15,
   "metadata": {
    "collapsed": true
   },
   "outputs": [],
   "source": [
    "class Parallel(nn.Module):\n",
    "    def __init__(self, size1, size2):\n",
    "        super(Parallel, self).__init__()\n",
    "        self.conv3 = nn.Sequential(\n",
    "            nn.Conv1d(size1, size2, 3, 1, 1),\n",
    "            nn.ReLU(True),\n",
    "        )\n",
    "        self.conv5 = nn.Sequential(\n",
    "            nn.Conv1d(size1, size2, 5, 1, 2),\n",
    "            nn.ReLU(True),\n",
    "        )\n",
    "        \n",
    "    def forward(self, x):\n",
    "        conv3 = self.conv3(x)\n",
    "        conv5 = self.conv5(x)\n",
    "        return torch.cat([conv3, conv5], 1)"
   ]
  },
  {
   "cell_type": "code",
   "execution_count": 16,
   "metadata": {
    "collapsed": true
   },
   "outputs": [],
   "source": [
    "class Model(nn.Module):\n",
    "    def __init__(self, word_size, classes=classes):\n",
    "        super(Model, self).__init__()\n",
    "        self.cnn = nn.Sequential(\n",
    "            nn.Embedding(word_size, 128),\n",
    "            Transpose(),\n",
    "            \n",
    "            nn.Dropout(0.5),\n",
    "            \n",
    "            nn.Conv1d(128, 256, 3, 1, 1),\n",
    "            nn.ReLU(True),\n",
    "            nn.BatchNorm1d(256),\n",
    "            nn.Conv1d(256, 256, 3, 2, 1),\n",
    "            \n",
    "            nn.BatchNorm1d(256),\n",
    "            nn.Conv1d(256, 512, 3, 1, 1),\n",
    "            My_max(),\n",
    "            \n",
    "            nn.BatchNorm1d(512),\n",
    "            \n",
    "            nn.Linear(512, 512),\n",
    "            nn.ReLU(True),\n",
    "            nn.BatchNorm1d(512),\n",
    "            nn.Linear(512, classes),\n",
    "        )\n",
    "        \n",
    "    def forward(self, x):\n",
    "        return self.cnn(x)"
   ]
  },
  {
   "cell_type": "code",
   "execution_count": 17,
   "metadata": {},
   "outputs": [
    {
     "data": {
      "text/plain": [
       "Model(\n",
       "  (cnn): Sequential(\n",
       "    (0): Embedding(12136, 128)\n",
       "    (1): Transpose()\n",
       "    (2): Dropout(p=0.5)\n",
       "    (3): Conv1d(128, 256, kernel_size=(3,), stride=(1,), padding=(1,))\n",
       "    (4): ReLU(inplace)\n",
       "    (5): BatchNorm1d(256, eps=1e-05, momentum=0.1, affine=True, track_running_stats=True)\n",
       "    (6): Conv1d(256, 256, kernel_size=(3,), stride=(2,), padding=(1,))\n",
       "    (7): BatchNorm1d(256, eps=1e-05, momentum=0.1, affine=True, track_running_stats=True)\n",
       "    (8): Conv1d(256, 512, kernel_size=(3,), stride=(1,), padding=(1,))\n",
       "    (9): My_max()\n",
       "    (10): BatchNorm1d(512, eps=1e-05, momentum=0.1, affine=True, track_running_stats=True)\n",
       "    (11): Linear(in_features=512, out_features=512, bias=True)\n",
       "    (12): ReLU(inplace)\n",
       "    (13): BatchNorm1d(512, eps=1e-05, momentum=0.1, affine=True, track_running_stats=True)\n",
       "    (14): Linear(in_features=512, out_features=16, bias=True)\n",
       "  )\n",
       ")"
      ]
     },
     "execution_count": 17,
     "metadata": {},
     "output_type": "execute_result"
    }
   ],
   "source": [
    "model = Model(len(vocab2num))\n",
    "model = model.cuda()\n",
    "model"
   ]
  },
  {
   "cell_type": "code",
   "execution_count": 18,
   "metadata": {
    "collapsed": true
   },
   "outputs": [],
   "source": [
    "Epoch = 10\n",
    "LR = 0.001"
   ]
  },
  {
   "cell_type": "code",
   "execution_count": 19,
   "metadata": {
    "collapsed": true
   },
   "outputs": [],
   "source": [
    "loss_func = nn.CrossEntropyLoss() \n",
    "optimizer = torch.optim.Adam(model.parameters(), lr=LR) "
   ]
  },
  {
   "cell_type": "markdown",
   "metadata": {},
   "source": [
    "#### Performance Before Train"
   ]
  },
  {
   "cell_type": "code",
   "execution_count": 25,
   "metadata": {},
   "outputs": [
    {
     "name": "stdout",
     "output_type": "stream",
     "text": [
      "Acc: 0.8320373250388803\r"
     ]
    }
   ],
   "source": [
    "# validation\n",
    "correct = 0\n",
    "total = 0\n",
    "model.eval()\n",
    "\n",
    "for b_x, b_y in valid_dataset:\n",
    "    b_x = b_x.long().cuda()\n",
    "    b_y = b_y.long().cuda()\n",
    "    logits = model(b_x)\n",
    "\n",
    "    # get statistics\n",
    "    _, predicted_labels = torch.max(logits, 1)\n",
    "    # print(predicted_labels)\n",
    "    correct += (predicted_labels == b_y.view(-1)).sum()\n",
    "    total += len(b_y)\n",
    "\n",
    "    print('Acc: {}'.format(float(correct)/total), end='\\r')"
   ]
  },
  {
   "cell_type": "markdown",
   "metadata": {},
   "source": [
    "### Train"
   ]
  },
  {
   "cell_type": "code",
   "execution_count": 78,
   "metadata": {
    "scrolled": false
   },
   "outputs": [
    {
     "name": "stdout",
     "output_type": "stream",
     "text": [
      "Batch:64000 Avg Loss:1.9960970738530226 Acc:0.36846875865932967\n",
      "savedation Acc: 0.5676516329704514\n",
      "Batch:64000 Avg Loss:1.6106005440354332 Acc:0.49881257313656827\n",
      "savedation Acc: 0.6049766718506998\n",
      "Batch:64000 Avg Loss:1.436674931466578 Acc:0.55717187552376188\n",
      "savedation Acc: 0.6765163297045101\n",
      "Batch:64000 Avg Loss:1.3330963047146818 Acc:0.5926875285142576\n",
      "savedation Acc: 0.7013996889580093\n",
      "Batch:64000 Avg Loss:1.2435143761634828 Acc:0.6197031256868434\n",
      "savedation Acc: 0.7449455676516333\n",
      "Batch:64000 Avg Loss:1.187034841507672 Acc:0.63571875464232116\n",
      "Validation Acc: 0.7402799377916018\n",
      "Batch:64000 Avg Loss:1.1414448472261411 Acc:0.6518759129564783\n",
      "savedation Acc: 0.7527216174183515\n",
      "Batch:64000 Avg Loss:1.0996322233378875 Acc:0.6629531259734867\n",
      "savedation Acc: 0.7573872472783826\n",
      "Batch:64000 Avg Loss:1.0758463193029124 Acc:0.6706093751195694\n",
      "savedation Acc: 0.7682737169517885\n",
      "Batch:64000 Avg Loss:1.058249392792582 Acc:0.67517187522211105\n",
      "savedation Acc: 0.7838258164852255\n",
      "Batch:64000 Avg Loss:1.0338692367672895 Acc:0.6822343756868434\n",
      "savedation Acc: 0.7947122861586314\n",
      "Batch:64000 Avg Loss:0.9971658984124673 Acc:0.6930312513756879\n",
      "Validation Acc: 0.7838258164852255\n",
      "Batch:64000 Avg Loss:0.9884803234040734 Acc:0.6962343751885943\n",
      "savedation Acc: 0.8009331259720062\n",
      "Batch:64000 Avg Loss:0.9670460949838162 Acc:0.7035312568184092\n",
      "Validation Acc: 0.7853810264385692\n",
      "Batch:64000 Avg Loss:0.9562517908364523 Acc:0.7049218751115557\n",
      "Validation Acc: 0.7962674961119751\n",
      "Batch:64000 Avg Loss:0.9302893835455172 Acc:0.7121562586593296\n",
      "Validation Acc: 0.7931570762052877\n",
      "Batch:64000 Avg Loss:0.9249837566763159 Acc:0.7162812562731365\n",
      "Validation Acc: 0.7916018662519441\n",
      "Batch:64000 Avg Loss:0.9121852851361042 Acc:0.7191718752266133\n",
      "Validation Acc: 0.7900466562986003\n",
      "Batch:64000 Avg Loss:0.8934841523915522 Acc:0.7236875387193596\n",
      "savedation Acc: 0.8118195956454122\n",
      "Batch:64000 Avg Loss:0.8853548214435578 Acc:0.7264062587743872\n",
      "savedation Acc: 0.8180404354587869\n",
      "Batch:64000 Avg Loss:0.8823152240663767 Acc:0.7274062587393697\n",
      "Validation Acc: 0.8055987558320373\n",
      "Batch:64000 Avg Loss:0.8610712284967297 Acc:0.7340937500800416\n",
      "Validation Acc: 0.8087091757387247\n",
      "Batch:64000 Avg Loss:0.8611600142642861 Acc:0.7324375815407703\n",
      "savedation Acc: 0.8273716951788491\n",
      "Batch:64000 Avg Loss:0.861667264044285 Acc:0.73315625910955477\n",
      "Validation Acc: 0.8055987558320373\n",
      "Batch:64000 Avg Loss:0.840440065622332 Acc:0.74399949974987494\n",
      "Validation Acc: 0.8211508553654744\n",
      "Batch:64000 Avg Loss:0.8260277907624844 Acc:0.7436718751710856\n",
      "Validation Acc: 0.8149300155520995\n",
      "Batch:64000 Avg Loss:0.8186596057564006 Acc:0.7455468756908455\n",
      "Validation Acc: 0.7916018662519441\n",
      "Batch:64000 Avg Loss:0.8237625387460001 Acc:0.7435625468234117\n",
      "Validation Acc: 0.8164852255054432\n",
      "Batch:64000 Avg Loss:0.8182696349918824 Acc:0.7463751865932967\n",
      "Validation Acc: 0.8118195956454122\n",
      "Batch:64000 Avg Loss:0.8180145588368177 Acc:0.7451259564782488\n",
      "Validation Acc: 0.8164852255054432\n",
      "Batch:64000 Avg Loss:0.7995306500121941 Acc:0.7509687530665333\n",
      "Validation Acc: 0.8273716951788491\n",
      "Batch:64000 Avg Loss:0.7993918592482814 Acc:0.7517968754377189\n",
      "Validation Acc: 0.8024883359253555\n",
      "Batch:64000 Avg Loss:0.7955623098127534 Acc:0.7515538519259633\n",
      "savedation Acc: 0.8289269051321928\n",
      "Batch:64000 Avg Loss:0.7889439030140637 Acc:0.7532968752621311\n",
      "Validation Acc: 0.8195956454121306\n",
      "Batch:64000 Avg Loss:0.7811278125792763 Acc:0.7553906250280144\n",
      "Validation Acc: 0.8227060653188181\n",
      "Batch:64000 Avg Loss:0.7777816497087472 Acc:0.7578125753876939\n",
      "Validation Acc: 0.8273716951788491\n",
      "Batch:64000 Avg Loss:0.7731443611681454 Acc:0.7579218756533267\n",
      "Validation Acc: 0.8118195956454122\n",
      "Batch:64000 Avg Loss:0.7664492963552476 Acc:0.7616093751420718\n",
      "Validation Acc: 0.8273716951788491\n",
      "Batch:64000 Avg Loss:0.7628907676190141 Acc:0.7615781259584793\n",
      "Validation Acc: 0.8118195956454122\n",
      "Batch:64000 Avg Loss:0.7678531044051042 Acc:0.7603437516458229\n",
      "Validation Acc: 0.8055987558320373\n",
      "Batch:64000 Avg Loss:0.7570123650059103 Acc:0.7630937557828914\n",
      "Validation Acc: 0.8242612752721618\n",
      "Batch:64000 Avg Loss:0.7434772227779026 Acc:0.7665926213106553\n",
      "Validation Acc: 0.8180404354587869\n",
      "Batch:64000 Avg Loss:0.7474877477437254 Acc:0.7658758399199622\n",
      "savedation Acc: 0.8320373250388803\n",
      "Batch:64000 Avg Loss:0.7407007900327435 Acc:0.7685781252601301\n",
      "Validation Acc: 0.8133748055987559\n",
      "Batch:64000 Avg Loss:0.7483296893313525 Acc:0.7658756758379189\n",
      "Validation Acc: 0.8118195956454122\n",
      "Batch:64000 Avg Loss:0.7353595563545822 Acc:0.7680468757678839\n",
      "Validation Acc: 0.8133748055987559\n",
      "Batch:64000 Avg Loss:0.7392451590150607 Acc:0.7671250355177589\n",
      "Validation Acc: 0.8211508553654744\n",
      "Batch:64000 Avg Loss:0.7425908166170103 Acc:0.7674062518459229\n",
      "Validation Acc: 0.8211508553654744\n",
      "Batch:64000 Avg Loss:0.7279049018025405 Acc:0.7707031251900951\n",
      "Validation Acc: 0.8118195956454122\n",
      "Batch:64000 Avg Loss:0.7180819407775998 Acc:0.7752968753156579\n",
      "Validation Acc: 0.8195956454121306\n",
      "Batch:64000 Avg Loss:0.7230929911658167 Acc:0.7725937509754878\n",
      "Validation Acc: 0.0\r"
     ]
    },
    {
     "ename": "KeyboardInterrupt",
     "evalue": "",
     "output_type": "error",
     "traceback": [
      "\u001b[1;31m---------------------------------------------------------------------------\u001b[0m",
      "\u001b[1;31mKeyboardInterrupt\u001b[0m                         Traceback (most recent call last)",
      "\u001b[1;32m<ipython-input-78-ce7fa59ed76b>\u001b[0m in \u001b[0;36m<module>\u001b[1;34m()\u001b[0m\n\u001b[0;32m     45\u001b[0m                 \u001b[0mb_x\u001b[0m \u001b[1;33m=\u001b[0m \u001b[0mb_x\u001b[0m\u001b[1;33m.\u001b[0m\u001b[0mlong\u001b[0m\u001b[1;33m(\u001b[0m\u001b[1;33m)\u001b[0m\u001b[1;33m.\u001b[0m\u001b[0mcuda\u001b[0m\u001b[1;33m(\u001b[0m\u001b[1;33m)\u001b[0m\u001b[1;33m\u001b[0m\u001b[0m\n\u001b[0;32m     46\u001b[0m                 \u001b[0mb_y\u001b[0m \u001b[1;33m=\u001b[0m \u001b[0mb_y\u001b[0m\u001b[1;33m.\u001b[0m\u001b[0mlong\u001b[0m\u001b[1;33m(\u001b[0m\u001b[1;33m)\u001b[0m\u001b[1;33m.\u001b[0m\u001b[0mcuda\u001b[0m\u001b[1;33m(\u001b[0m\u001b[1;33m)\u001b[0m\u001b[1;33m\u001b[0m\u001b[0m\n\u001b[1;32m---> 47\u001b[1;33m                 \u001b[0mlogits\u001b[0m \u001b[1;33m=\u001b[0m \u001b[0mmodel\u001b[0m\u001b[1;33m(\u001b[0m\u001b[0mb_x\u001b[0m\u001b[1;33m)\u001b[0m\u001b[1;33m\u001b[0m\u001b[0m\n\u001b[0m\u001b[0;32m     48\u001b[0m \u001b[1;33m\u001b[0m\u001b[0m\n\u001b[0;32m     49\u001b[0m                 \u001b[1;31m# get statistics\u001b[0m\u001b[1;33m\u001b[0m\u001b[1;33m\u001b[0m\u001b[0m\n",
      "\u001b[1;32m~\\Anaconda3\\lib\\site-packages\\torch\\nn\\modules\\module.py\u001b[0m in \u001b[0;36m__call__\u001b[1;34m(self, *input, **kwargs)\u001b[0m\n\u001b[0;32m    475\u001b[0m             \u001b[0mresult\u001b[0m \u001b[1;33m=\u001b[0m \u001b[0mself\u001b[0m\u001b[1;33m.\u001b[0m\u001b[0m_slow_forward\u001b[0m\u001b[1;33m(\u001b[0m\u001b[1;33m*\u001b[0m\u001b[0minput\u001b[0m\u001b[1;33m,\u001b[0m \u001b[1;33m**\u001b[0m\u001b[0mkwargs\u001b[0m\u001b[1;33m)\u001b[0m\u001b[1;33m\u001b[0m\u001b[0m\n\u001b[0;32m    476\u001b[0m         \u001b[1;32melse\u001b[0m\u001b[1;33m:\u001b[0m\u001b[1;33m\u001b[0m\u001b[0m\n\u001b[1;32m--> 477\u001b[1;33m             \u001b[0mresult\u001b[0m \u001b[1;33m=\u001b[0m \u001b[0mself\u001b[0m\u001b[1;33m.\u001b[0m\u001b[0mforward\u001b[0m\u001b[1;33m(\u001b[0m\u001b[1;33m*\u001b[0m\u001b[0minput\u001b[0m\u001b[1;33m,\u001b[0m \u001b[1;33m**\u001b[0m\u001b[0mkwargs\u001b[0m\u001b[1;33m)\u001b[0m\u001b[1;33m\u001b[0m\u001b[0m\n\u001b[0m\u001b[0;32m    478\u001b[0m         \u001b[1;32mfor\u001b[0m \u001b[0mhook\u001b[0m \u001b[1;32min\u001b[0m \u001b[0mself\u001b[0m\u001b[1;33m.\u001b[0m\u001b[0m_forward_hooks\u001b[0m\u001b[1;33m.\u001b[0m\u001b[0mvalues\u001b[0m\u001b[1;33m(\u001b[0m\u001b[1;33m)\u001b[0m\u001b[1;33m:\u001b[0m\u001b[1;33m\u001b[0m\u001b[0m\n\u001b[0;32m    479\u001b[0m             \u001b[0mhook_result\u001b[0m \u001b[1;33m=\u001b[0m \u001b[0mhook\u001b[0m\u001b[1;33m(\u001b[0m\u001b[0mself\u001b[0m\u001b[1;33m,\u001b[0m \u001b[0minput\u001b[0m\u001b[1;33m,\u001b[0m \u001b[0mresult\u001b[0m\u001b[1;33m)\u001b[0m\u001b[1;33m\u001b[0m\u001b[0m\n",
      "\u001b[1;32m<ipython-input-62-7e11b54443e3>\u001b[0m in \u001b[0;36mforward\u001b[1;34m(self, x)\u001b[0m\n\u001b[0;32m     26\u001b[0m \u001b[1;33m\u001b[0m\u001b[0m\n\u001b[0;32m     27\u001b[0m     \u001b[1;32mdef\u001b[0m \u001b[0mforward\u001b[0m\u001b[1;33m(\u001b[0m\u001b[0mself\u001b[0m\u001b[1;33m,\u001b[0m \u001b[0mx\u001b[0m\u001b[1;33m)\u001b[0m\u001b[1;33m:\u001b[0m\u001b[1;33m\u001b[0m\u001b[0m\n\u001b[1;32m---> 28\u001b[1;33m         \u001b[1;32mreturn\u001b[0m \u001b[0mself\u001b[0m\u001b[1;33m.\u001b[0m\u001b[0mcnn\u001b[0m\u001b[1;33m(\u001b[0m\u001b[0mx\u001b[0m\u001b[1;33m)\u001b[0m\u001b[1;33m\u001b[0m\u001b[0m\n\u001b[0m",
      "\u001b[1;32m~\\Anaconda3\\lib\\site-packages\\torch\\nn\\modules\\module.py\u001b[0m in \u001b[0;36m__call__\u001b[1;34m(self, *input, **kwargs)\u001b[0m\n\u001b[0;32m    475\u001b[0m             \u001b[0mresult\u001b[0m \u001b[1;33m=\u001b[0m \u001b[0mself\u001b[0m\u001b[1;33m.\u001b[0m\u001b[0m_slow_forward\u001b[0m\u001b[1;33m(\u001b[0m\u001b[1;33m*\u001b[0m\u001b[0minput\u001b[0m\u001b[1;33m,\u001b[0m \u001b[1;33m**\u001b[0m\u001b[0mkwargs\u001b[0m\u001b[1;33m)\u001b[0m\u001b[1;33m\u001b[0m\u001b[0m\n\u001b[0;32m    476\u001b[0m         \u001b[1;32melse\u001b[0m\u001b[1;33m:\u001b[0m\u001b[1;33m\u001b[0m\u001b[0m\n\u001b[1;32m--> 477\u001b[1;33m             \u001b[0mresult\u001b[0m \u001b[1;33m=\u001b[0m \u001b[0mself\u001b[0m\u001b[1;33m.\u001b[0m\u001b[0mforward\u001b[0m\u001b[1;33m(\u001b[0m\u001b[1;33m*\u001b[0m\u001b[0minput\u001b[0m\u001b[1;33m,\u001b[0m \u001b[1;33m**\u001b[0m\u001b[0mkwargs\u001b[0m\u001b[1;33m)\u001b[0m\u001b[1;33m\u001b[0m\u001b[0m\n\u001b[0m\u001b[0;32m    478\u001b[0m         \u001b[1;32mfor\u001b[0m \u001b[0mhook\u001b[0m \u001b[1;32min\u001b[0m \u001b[0mself\u001b[0m\u001b[1;33m.\u001b[0m\u001b[0m_forward_hooks\u001b[0m\u001b[1;33m.\u001b[0m\u001b[0mvalues\u001b[0m\u001b[1;33m(\u001b[0m\u001b[1;33m)\u001b[0m\u001b[1;33m:\u001b[0m\u001b[1;33m\u001b[0m\u001b[0m\n\u001b[0;32m    479\u001b[0m             \u001b[0mhook_result\u001b[0m \u001b[1;33m=\u001b[0m \u001b[0mhook\u001b[0m\u001b[1;33m(\u001b[0m\u001b[0mself\u001b[0m\u001b[1;33m,\u001b[0m \u001b[0minput\u001b[0m\u001b[1;33m,\u001b[0m \u001b[0mresult\u001b[0m\u001b[1;33m)\u001b[0m\u001b[1;33m\u001b[0m\u001b[0m\n",
      "\u001b[1;32m~\\Anaconda3\\lib\\site-packages\\torch\\nn\\modules\\container.py\u001b[0m in \u001b[0;36mforward\u001b[1;34m(self, input)\u001b[0m\n\u001b[0;32m     89\u001b[0m     \u001b[1;32mdef\u001b[0m \u001b[0mforward\u001b[0m\u001b[1;33m(\u001b[0m\u001b[0mself\u001b[0m\u001b[1;33m,\u001b[0m \u001b[0minput\u001b[0m\u001b[1;33m)\u001b[0m\u001b[1;33m:\u001b[0m\u001b[1;33m\u001b[0m\u001b[0m\n\u001b[0;32m     90\u001b[0m         \u001b[1;32mfor\u001b[0m \u001b[0mmodule\u001b[0m \u001b[1;32min\u001b[0m \u001b[0mself\u001b[0m\u001b[1;33m.\u001b[0m\u001b[0m_modules\u001b[0m\u001b[1;33m.\u001b[0m\u001b[0mvalues\u001b[0m\u001b[1;33m(\u001b[0m\u001b[1;33m)\u001b[0m\u001b[1;33m:\u001b[0m\u001b[1;33m\u001b[0m\u001b[0m\n\u001b[1;32m---> 91\u001b[1;33m             \u001b[0minput\u001b[0m \u001b[1;33m=\u001b[0m \u001b[0mmodule\u001b[0m\u001b[1;33m(\u001b[0m\u001b[0minput\u001b[0m\u001b[1;33m)\u001b[0m\u001b[1;33m\u001b[0m\u001b[0m\n\u001b[0m\u001b[0;32m     92\u001b[0m         \u001b[1;32mreturn\u001b[0m \u001b[0minput\u001b[0m\u001b[1;33m\u001b[0m\u001b[0m\n\u001b[0;32m     93\u001b[0m \u001b[1;33m\u001b[0m\u001b[0m\n",
      "\u001b[1;32m~\\Anaconda3\\lib\\site-packages\\torch\\nn\\modules\\module.py\u001b[0m in \u001b[0;36m__call__\u001b[1;34m(self, *input, **kwargs)\u001b[0m\n\u001b[0;32m    475\u001b[0m             \u001b[0mresult\u001b[0m \u001b[1;33m=\u001b[0m \u001b[0mself\u001b[0m\u001b[1;33m.\u001b[0m\u001b[0m_slow_forward\u001b[0m\u001b[1;33m(\u001b[0m\u001b[1;33m*\u001b[0m\u001b[0minput\u001b[0m\u001b[1;33m,\u001b[0m \u001b[1;33m**\u001b[0m\u001b[0mkwargs\u001b[0m\u001b[1;33m)\u001b[0m\u001b[1;33m\u001b[0m\u001b[0m\n\u001b[0;32m    476\u001b[0m         \u001b[1;32melse\u001b[0m\u001b[1;33m:\u001b[0m\u001b[1;33m\u001b[0m\u001b[0m\n\u001b[1;32m--> 477\u001b[1;33m             \u001b[0mresult\u001b[0m \u001b[1;33m=\u001b[0m \u001b[0mself\u001b[0m\u001b[1;33m.\u001b[0m\u001b[0mforward\u001b[0m\u001b[1;33m(\u001b[0m\u001b[1;33m*\u001b[0m\u001b[0minput\u001b[0m\u001b[1;33m,\u001b[0m \u001b[1;33m**\u001b[0m\u001b[0mkwargs\u001b[0m\u001b[1;33m)\u001b[0m\u001b[1;33m\u001b[0m\u001b[0m\n\u001b[0m\u001b[0;32m    478\u001b[0m         \u001b[1;32mfor\u001b[0m \u001b[0mhook\u001b[0m \u001b[1;32min\u001b[0m \u001b[0mself\u001b[0m\u001b[1;33m.\u001b[0m\u001b[0m_forward_hooks\u001b[0m\u001b[1;33m.\u001b[0m\u001b[0mvalues\u001b[0m\u001b[1;33m(\u001b[0m\u001b[1;33m)\u001b[0m\u001b[1;33m:\u001b[0m\u001b[1;33m\u001b[0m\u001b[0m\n\u001b[0;32m    479\u001b[0m             \u001b[0mhook_result\u001b[0m \u001b[1;33m=\u001b[0m \u001b[0mhook\u001b[0m\u001b[1;33m(\u001b[0m\u001b[0mself\u001b[0m\u001b[1;33m,\u001b[0m \u001b[0minput\u001b[0m\u001b[1;33m,\u001b[0m \u001b[0mresult\u001b[0m\u001b[1;33m)\u001b[0m\u001b[1;33m\u001b[0m\u001b[0m\n",
      "\u001b[1;32m~\\Anaconda3\\lib\\site-packages\\torch\\nn\\modules\\sparse.py\u001b[0m in \u001b[0;36mforward\u001b[1;34m(self, input)\u001b[0m\n\u001b[0;32m    108\u001b[0m         return F.embedding(\n\u001b[0;32m    109\u001b[0m             \u001b[0minput\u001b[0m\u001b[1;33m,\u001b[0m \u001b[0mself\u001b[0m\u001b[1;33m.\u001b[0m\u001b[0mweight\u001b[0m\u001b[1;33m,\u001b[0m \u001b[0mself\u001b[0m\u001b[1;33m.\u001b[0m\u001b[0mpadding_idx\u001b[0m\u001b[1;33m,\u001b[0m \u001b[0mself\u001b[0m\u001b[1;33m.\u001b[0m\u001b[0mmax_norm\u001b[0m\u001b[1;33m,\u001b[0m\u001b[1;33m\u001b[0m\u001b[0m\n\u001b[1;32m--> 110\u001b[1;33m             self.norm_type, self.scale_grad_by_freq, self.sparse)\n\u001b[0m\u001b[0;32m    111\u001b[0m \u001b[1;33m\u001b[0m\u001b[0m\n\u001b[0;32m    112\u001b[0m     \u001b[1;32mdef\u001b[0m \u001b[0mextra_repr\u001b[0m\u001b[1;33m(\u001b[0m\u001b[0mself\u001b[0m\u001b[1;33m)\u001b[0m\u001b[1;33m:\u001b[0m\u001b[1;33m\u001b[0m\u001b[0m\n",
      "\u001b[1;32m~\\Anaconda3\\lib\\site-packages\\torch\\nn\\functional.py\u001b[0m in \u001b[0;36membedding\u001b[1;34m(input, weight, padding_idx, max_norm, norm_type, scale_grad_by_freq, sparse)\u001b[0m\n\u001b[0;32m   1108\u001b[0m         \u001b[1;32mwith\u001b[0m \u001b[0mtorch\u001b[0m\u001b[1;33m.\u001b[0m\u001b[0mno_grad\u001b[0m\u001b[1;33m(\u001b[0m\u001b[1;33m)\u001b[0m\u001b[1;33m:\u001b[0m\u001b[1;33m\u001b[0m\u001b[0m\n\u001b[0;32m   1109\u001b[0m             \u001b[0mtorch\u001b[0m\u001b[1;33m.\u001b[0m\u001b[0membedding_renorm_\u001b[0m\u001b[1;33m(\u001b[0m\u001b[0mweight\u001b[0m\u001b[1;33m,\u001b[0m \u001b[0minput\u001b[0m\u001b[1;33m,\u001b[0m \u001b[0mmax_norm\u001b[0m\u001b[1;33m,\u001b[0m \u001b[0mnorm_type\u001b[0m\u001b[1;33m)\u001b[0m\u001b[1;33m\u001b[0m\u001b[0m\n\u001b[1;32m-> 1110\u001b[1;33m     \u001b[1;32mreturn\u001b[0m \u001b[0mtorch\u001b[0m\u001b[1;33m.\u001b[0m\u001b[0membedding\u001b[0m\u001b[1;33m(\u001b[0m\u001b[0mweight\u001b[0m\u001b[1;33m,\u001b[0m \u001b[0minput\u001b[0m\u001b[1;33m,\u001b[0m \u001b[0mpadding_idx\u001b[0m\u001b[1;33m,\u001b[0m \u001b[0mscale_grad_by_freq\u001b[0m\u001b[1;33m,\u001b[0m \u001b[0msparse\u001b[0m\u001b[1;33m)\u001b[0m\u001b[1;33m\u001b[0m\u001b[0m\n\u001b[0m\u001b[0;32m   1111\u001b[0m \u001b[1;33m\u001b[0m\u001b[0m\n\u001b[0;32m   1112\u001b[0m \u001b[1;33m\u001b[0m\u001b[0m\n",
      "\u001b[1;31mKeyboardInterrupt\u001b[0m: "
     ]
    }
   ],
   "source": [
    "best_acc = 0.0\n",
    "val_acc = []\n",
    "\n",
    "for e in range(Epoch):\n",
    "    \n",
    "    # train\n",
    "    model.train()\n",
    "    \n",
    "    orders = np.random.permutation(len(train_dataset))\n",
    "    train_correct = 0\n",
    "    train_total = 0\n",
    "    ave_loss = 0\n",
    "    loss_n = 0\n",
    "    \n",
    "    for i in orders:\n",
    "        b_x, b_y = train_dataset[i]\n",
    "        b_x = b_x.long().cuda()\n",
    "        b_y = b_y.long().cuda()\n",
    "        logits = model(b_x)\n",
    "        loss = loss_func(logits, b_y)\n",
    "        optimizer.zero_grad()\n",
    "        loss.backward()\n",
    "        optimizer.step()\n",
    "        \n",
    "        # get statistics\n",
    "        loss_n += 1\n",
    "        ave_loss += (loss.item() - ave_loss) / loss_n\n",
    "        _, predicted_labels = torch.max(logits, 1)\n",
    "        train_correct += (predicted_labels == b_y.view(-1)).sum()\n",
    "        train_total += len(b_y)\n",
    "        \n",
    "        print('Batch:{} Avg Loss:{} Acc:{}'.format(32 * loss_n, \n",
    "                ave_loss, float(train_correct)/train_total), end='\\r')\n",
    "        \n",
    "        if loss_n % 2000 == 0:\n",
    "    \n",
    "            print()\n",
    "            model.eval()\n",
    "            \n",
    "            # validation\n",
    "            valid_correct = 0\n",
    "            valid_total = 0\n",
    "\n",
    "            for b_x, b_y in valid_dataset:\n",
    "                b_x = b_x.long().cuda()\n",
    "                b_y = b_y.long().cuda()\n",
    "                logits = model(b_x)\n",
    "\n",
    "                # get statistics\n",
    "                _, predicted_labels = torch.max(logits, 1)\n",
    "                valid_correct += (predicted_labels == b_y.view(-1)).sum()\n",
    "                valid_total += len(b_y)\n",
    "\n",
    "                print('Validation Acc: {}'.format(float(valid_correct)/valid_total), end='\\r')\n",
    "                \n",
    "            acc = float(valid_correct)/valid_total\n",
    "            val_acc.append(acc)\n",
    "            if acc > best_acc:\n",
    "                best_acc = acc\n",
    "                torch.save((model).state_dict(), 'hw1.t7')\n",
    "                print('saved')\n",
    "            else:\n",
    "                print()\n",
    "                \n",
    "            train_correct = 0\n",
    "            train_total = 0\n",
    "            ave_loss = 0\n",
    "            loss_n = 0\n",
    "            model.train()\n",
    "        \n",
    "    print('-------------------------------------------------')"
   ]
  },
  {
   "cell_type": "code",
   "execution_count": 79,
   "metadata": {},
   "outputs": [
    {
     "data": {
      "image/png": "[encoded data removed]",
      "text/plain": [
       "<Figure size 1080x720 with 1 Axes>"
      ]
     },
     "metadata": {},
     "output_type": "display_data"
    }
   ],
   "source": [
    "import matplotlib.pyplot as plt\n",
    "plt.figure(figsize=(15,10))\n",
    "x = []\n",
    "batch = 64000\n",
    "for i in range(len(val_acc)):\n",
    "    x.append(batch)\n",
    "    batch += 64000\n",
    "plt.plot(x, val_acc, color='r')\n",
    "plt.xlabel('Number Sentences Trained')\n",
    "plt.ylabel('Validation Accuracy')\n",
    "plt.title('Validation Accuracy')\n",
    "plt.show()"
   ]
  },
  {
   "cell_type": "markdown",
   "metadata": {
    "collapsed": true
   },
   "source": [
    "### After Train"
   ]
  },
  {
   "cell_type": "code",
   "execution_count": 24,
   "metadata": {
    "collapsed": true
   },
   "outputs": [],
   "source": [
    "model.load_state_dict(torch.load('hw1.t7'))"
   ]
  },
  {
   "cell_type": "code",
   "execution_count": 81,
   "metadata": {
    "collapsed": true
   },
   "outputs": [],
   "source": [
    "test_sentences = []\n",
    "\n",
    "with codecs.open(test_file_name, 'r', encoding='utf8') as f:\n",
    "    for line in f:\n",
    "        words = str.split(line, ' ')\n",
    "        words[-1] = words[-1].strip()\n",
    "        \n",
    "        nums = []\n",
    "        for word in words:\n",
    "            try:\n",
    "                word,tag = str.split(word, '_')\n",
    "            except:\n",
    "                continue\n",
    "                \n",
    "            if word in vocab2num:\n",
    "                nums.append(vocab2num[word])\n",
    "            else:\n",
    "                nums.append(vocab2num[tag])\n",
    "                \n",
    "        if len(nums) == 0:\n",
    "            nums = [vocab2num['<None>']]\n",
    "            \n",
    "        nums = np.array(nums)\n",
    "        test_sentences.append(nums)"
   ]
  },
  {
   "cell_type": "code",
   "execution_count": 27,
   "metadata": {
    "collapsed": true
   },
   "outputs": [],
   "source": [
    "class TestSentences(Dataset):\n",
    "    def __init__(self, sentences):\n",
    "        self.sentences = sentences\n",
    "        \n",
    "    def __len__(self):\n",
    "        return len(self.labels)\n",
    "    \n",
    "    def __getitem__(self, idx):\n",
    "        return torch.tensor(np.array(self.sentences[idx]).reshape(1,-1).astype(int))"
   ]
  },
  {
   "cell_type": "code",
   "execution_count": 83,
   "metadata": {
    "collapsed": true
   },
   "outputs": [],
   "source": [
    "test_dataset = TestSentences(test_sentences)"
   ]
  },
  {
   "cell_type": "code",
   "execution_count": 30,
   "metadata": {
    "collapsed": true
   },
   "outputs": [],
   "source": [
    "num2label = ['Agriculture, food and drink', 'Music', 'Language and literature', 'Geography and places', 'History', 'Art and architecture', 'Video games', 'Mathematics', 'Social sciences and society', 'Natural sciences', 'Philosophy and religion', 'Warfare', 'Media and drama', 'Engineering and technology', 'Sports and recreation', 'Miscellaneous']"
   ]
  },
  {
   "cell_type": "code",
   "execution_count": 85,
   "metadata": {
    "collapsed": true
   },
   "outputs": [],
   "source": [
    "model.eval()\n",
    "\n",
    "with open('result.txt', 'w') as file:\n",
    "    for sent in test_dataset:\n",
    "        logits = model(sent.long().cuda())\n",
    "        _, pred = torch.max(logits, 1)\n",
    "        pred = pred.item()\n",
    "        \n",
    "#         print(pred)\n",
    "        \n",
    "        file.write(num2label[pred] + '\\n')"
   ]
  },
  {
   "cell_type": "code",
   "execution_count": 28,
   "metadata": {},
   "outputs": [],
   "source": [
    "valid_test_dataset = TestSentences(valid_sentences)"
   ]
  },
  {
   "cell_type": "code",
   "execution_count": 31,
   "metadata": {},
   "outputs": [],
   "source": [
    "model.eval()\n",
    "\n",
    "with open('result_valid.txt', 'w') as file:\n",
    "    for sent in valid_test_dataset:\n",
    "        logits = model(sent.long().cuda())\n",
    "        _, pred = torch.max(logits, 1)\n",
    "        pred = pred.item()\n",
    "        \n",
    "#         print(pred)\n",
    "        \n",
    "        file.write(num2label[pred] + '\\n')"
   ]
  },
  {
   "cell_type": "code",
   "execution_count": null,
   "metadata": {
    "collapsed": true
   },
   "outputs": [],
   "source": []
  }
 ],
 "metadata": {
  "kernelspec": {
   "display_name": "Python [conda env:Anaconda3]",
   "language": "python",
   "name": "conda-env-Anaconda3-py"
  },
  "language_info": {
   "codemirror_mode": {
    "name": "ipython",
    "version": 3
   },
   "file_extension": ".py",
   "mimetype": "text/x-python",
   "name": "python",
   "nbconvert_exporter": "python",
   "pygments_lexer": "ipython3",
   "version": "3.6.3"
  }
 },
 "nbformat": 4,
 "nbformat_minor": 2
}
